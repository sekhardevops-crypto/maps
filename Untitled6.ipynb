{
  "nbformat": 4,
  "nbformat_minor": 0,
  "metadata": {
    "colab": {
      "provenance": [],
      "authorship_tag": "ABX9TyOFcrrZPZmXU89WYik/1I45",
      "include_colab_link": true
    },
    "kernelspec": {
      "name": "python3",
      "display_name": "Python 3"
    },
    "language_info": {
      "name": "python"
    }
  },
  "cells": [
    {
      "cell_type": "markdown",
      "metadata": {
        "id": "view-in-github",
        "colab_type": "text"
      },
      "source": [
        "<a href=\"https://colab.research.google.com/github/sekhardevops-crypto/maps/blob/master/Untitled6.ipynb\" target=\"_parent\"><img src=\"https://colab.research.google.com/assets/colab-badge.svg\" alt=\"Open In Colab\"/></a>"
      ]
    },
    {
      "cell_type": "code",
      "source": [
        "num1 = int(input(\"Enter temperature in celsius: \"))\n",
        "result = (num1 * 9/5) + 32\n",
        "print(\"Temperature in Fahrenheit is: \", result)\n"
      ],
      "metadata": {
        "colab": {
          "base_uri": "https://localhost:8080/"
        },
        "id": "pPi8as64NMX6",
        "outputId": "11543a95-36ba-41c3-e8d6-5d2d738c01f3"
      },
      "execution_count": 3,
      "outputs": [
        {
          "output_type": "stream",
          "name": "stdout",
          "text": [
            "Enter temperature in celsius: 5\n",
            "Temperature in Fahrenheit is:  41.0\n"
          ]
        }
      ]
    },
    {
      "cell_type": "code",
      "source": [
        "num1 = int(input(\"Enter first number: \"))\n",
        "num2 = int(input(\"Enter second number: \"))\n",
        "num3 = int(input(\"Enter third number: \"))\n",
        "result = num1+num2+num3\n",
        "print(\"Sum of three numbers is: \", result)"
      ],
      "metadata": {
        "colab": {
          "base_uri": "https://localhost:8080/"
        },
        "id": "lZTT9LbBN44n",
        "outputId": "c04fd743-5de3-4ac4-d513-532b48a86e44"
      },
      "execution_count": 4,
      "outputs": [
        {
          "output_type": "stream",
          "name": "stdout",
          "text": [
            "Enter first number: 2\n",
            "Enter second number: 3\n",
            "Enter third number: 4\n",
            "Sum of three numbers is:  9\n"
          ]
        }
      ]
    },
    {
      "cell_type": "code",
      "source": [
        "num1 = int(input(\"Enter first number: \"))\n",
        "num2 = float(input(\"Enter second number: \"))\n",
        "result = num1*num2\n",
        "print(\"Product of two numbers is: \", result)"
      ],
      "metadata": {
        "colab": {
          "base_uri": "https://localhost:8080/"
        },
        "id": "fNFNJl9YOGFX",
        "outputId": "61fdfb5b-3c35-4d72-ecca-20840cefada2"
      },
      "execution_count": 7,
      "outputs": [
        {
          "output_type": "stream",
          "name": "stdout",
          "text": [
            "Enter first number: 5\n",
            "Enter second number: 3.3\n",
            "Product of two numbers is:  16.5\n"
          ]
        }
      ]
    },
    {
      "cell_type": "code",
      "source": [
        "num1 = str(input(\"Enter first name: \"))\n",
        "num2 = str(input(\"Enter second second: \"))\n",
        "result = num1+num2\n",
        "print(\"Division of two numbers is: \", result)"
      ],
      "metadata": {
        "colab": {
          "base_uri": "https://localhost:8080/"
        },
        "id": "kzJ8j9gmOitI",
        "outputId": "642cfd13-908a-4804-8e6e-35b2fc034dfa"
      },
      "execution_count": 8,
      "outputs": [
        {
          "output_type": "stream",
          "name": "stdout",
          "text": [
            "Enter first name: mallepula\n",
            "Enter second second: sekhar\n",
            "Division of two numbers is:  mallepulasekhar\n"
          ]
        }
      ]
    },
    {
      "cell_type": "code",
      "source": [],
      "metadata": {
        "id": "VmybBlz6PFhb"
      },
      "execution_count": null,
      "outputs": []
    },
    {
      "cell_type": "code",
      "source": [
        "num1 = int(input(\"Enter first number: \"))\n",
        "num2 = int(input(\"Enter second number: \"))\n",
        "num3 = int(input(\"Enter third number: \"))\n",
        "if num1>num2 and num1>num3:\n",
        "    print(num1, \"is greater\")\n",
        "elif num2>num1 and num2>num3:\n",
        "    print(num2, \"is greater\")\n",
        "else:\n",
        "    print(num3, \"is greater\")"
      ],
      "metadata": {
        "colab": {
          "base_uri": "https://localhost:8080/"
        },
        "id": "XP1vB2dBPR-h",
        "outputId": "19f2e585-c579-495d-8067-d794851f69ef"
      },
      "execution_count": 11,
      "outputs": [
        {
          "output_type": "stream",
          "name": "stdout",
          "text": [
            "Enter first number: 99\n",
            "Enter second number: 75\n",
            "Enter third number: 67\n",
            "99 is greater\n"
          ]
        }
      ]
    },
    {
      "cell_type": "code",
      "source": [
        "num1 = int(input(\"Enter first number: \"))\n",
        "if num1%2==0:\n",
        "    print(num1, \"is even\")\n",
        "else:\n",
        "    print(num1, \"is odd\")"
      ],
      "metadata": {
        "colab": {
          "base_uri": "https://localhost:8080/"
        },
        "id": "MuvpP9LYRE0y",
        "outputId": "c74821fd-34cd-4e28-c913-de167f45d6cc"
      },
      "execution_count": 15,
      "outputs": [
        {
          "output_type": "stream",
          "name": "stdout",
          "text": [
            "Enter first number: 4\n",
            "4 is even\n"
          ]
        }
      ]
    },
    {
      "cell_type": "code",
      "source": [
        "num1 = int(input(\"Enter first number: \"))\n",
        "num2 = float(input(\"Enter second number: \"))\n",
        "if num1>num2:\n",
        "    print(num1, \"is greater\")\n",
        "else:\n",
        "    print(num2, \"is greater\")"
      ],
      "metadata": {
        "colab": {
          "base_uri": "https://localhost:8080/"
        },
        "id": "sCXy3yHFR9rS",
        "outputId": "16940755-a559-4549-dea5-c595722cfaa3"
      },
      "execution_count": 18,
      "outputs": [
        {
          "output_type": "stream",
          "name": "stdout",
          "text": [
            "Enter first number: 10\n",
            "Enter second number: 9.9\n",
            "10 is greater\n"
          ]
        }
      ]
    }
  ]
}